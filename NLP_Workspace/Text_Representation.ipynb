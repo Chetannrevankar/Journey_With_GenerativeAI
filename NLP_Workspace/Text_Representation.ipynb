{
 "cells": [
  {
   "cell_type": "markdown",
   "id": "fbd77e97-e485-4e4e-bbb8-7b980c995734",
   "metadata": {},
   "source": [
    "# Bag of Words:"
   ]
  },
  {
   "cell_type": "code",
   "execution_count": 20,
   "id": "9aa5dc92-c251-453f-ab70-b031cbb90711",
   "metadata": {},
   "outputs": [],
   "source": [
    "import numpy as np\n",
    "import pandas as pd"
   ]
  },
  {
   "cell_type": "code",
   "execution_count": 21,
   "id": "8280b34d-cb01-44ed-8a75-09d7a04963ec",
   "metadata": {},
   "outputs": [
    {
     "data": {
      "text/html": [
       "<div>\n",
       "<style scoped>\n",
       "    .dataframe tbody tr th:only-of-type {\n",
       "        vertical-align: middle;\n",
       "    }\n",
       "\n",
       "    .dataframe tbody tr th {\n",
       "        vertical-align: top;\n",
       "    }\n",
       "\n",
       "    .dataframe thead th {\n",
       "        text-align: right;\n",
       "    }\n",
       "</style>\n",
       "<table border=\"1\" class=\"dataframe\">\n",
       "  <thead>\n",
       "    <tr style=\"text-align: right;\">\n",
       "      <th></th>\n",
       "      <th>text</th>\n",
       "      <th>output</th>\n",
       "    </tr>\n",
       "  </thead>\n",
       "  <tbody>\n",
       "    <tr>\n",
       "      <th>0</th>\n",
       "      <td>people watch movies</td>\n",
       "      <td>1</td>\n",
       "    </tr>\n",
       "    <tr>\n",
       "      <th>1</th>\n",
       "      <td>movies watch movies</td>\n",
       "      <td>1</td>\n",
       "    </tr>\n",
       "    <tr>\n",
       "      <th>2</th>\n",
       "      <td>people write comments</td>\n",
       "      <td>0</td>\n",
       "    </tr>\n",
       "  </tbody>\n",
       "</table>\n",
       "</div>"
      ],
      "text/plain": [
       "                    text  output\n",
       "0    people watch movies       1\n",
       "1    movies watch movies       1\n",
       "2  people write comments       0"
      ]
     },
     "execution_count": 21,
     "metadata": {},
     "output_type": "execute_result"
    }
   ],
   "source": [
    "df = pd.DataFrame({\"text\":[\"people watch movies\",\n",
    "                          \"movies watch movies\",\n",
    "                          \"people write comments\"],\n",
    "                   \"output\":[1,1,0]\n",
    "    \n",
    "})\n",
    "df"
   ]
  },
  {
   "cell_type": "code",
   "execution_count": 22,
   "id": "dde4e491-2236-4624-8e13-5c9de65ec51a",
   "metadata": {},
   "outputs": [],
   "source": [
    "from sklearn.feature_extraction.text import CountVectorizer\n",
    "cv = CountVectorizer()"
   ]
  },
  {
   "cell_type": "code",
   "execution_count": 23,
   "id": "f5b52108-4756-44a5-a2eb-534449b93885",
   "metadata": {},
   "outputs": [],
   "source": [
    "bow = cv.fit_transform(df['text'])"
   ]
  },
  {
   "cell_type": "code",
   "execution_count": 24,
   "id": "f295cc25-b9de-4236-be0d-34804668d292",
   "metadata": {},
   "outputs": [
    {
     "name": "stdout",
     "output_type": "stream",
     "text": [
      "{'people': 2, 'watch': 3, 'movies': 1, 'write': 4, 'comments': 0}\n"
     ]
    }
   ],
   "source": [
    "print(cv.vocabulary_)"
   ]
  },
  {
   "cell_type": "markdown",
   "id": "ac1a70fc-97da-45ee-bd98-4bbedc6fa2eb",
   "metadata": {},
   "source": [
    "`vocabulary_` is a Python dictionary created after fitting the model (fit() or fit_transform()). It maps each unique word (token) in our dataset to a column index in the Bag of Words (BoW) matrix."
   ]
  },
  {
   "cell_type": "code",
   "execution_count": 25,
   "id": "228aceb0-b708-401b-bd64-567662859a42",
   "metadata": {},
   "outputs": [
    {
     "data": {
      "text/plain": [
       "array([[0, 1, 1, 1, 0],\n",
       "       [0, 2, 0, 1, 0],\n",
       "       [1, 0, 1, 0, 1]], dtype=int64)"
      ]
     },
     "execution_count": 25,
     "metadata": {},
     "output_type": "execute_result"
    }
   ],
   "source": [
    "bow.toarray()"
   ]
  },
  {
   "cell_type": "code",
   "execution_count": 26,
   "id": "8418deae-4e51-497a-9544-3f9053b7d227",
   "metadata": {},
   "outputs": [
    {
     "name": "stdout",
     "output_type": "stream",
     "text": [
      "[[0 1 1 1 0]]\n"
     ]
    }
   ],
   "source": [
    "print(bow[0].toarray())"
   ]
  },
  {
   "cell_type": "code",
   "execution_count": 27,
   "id": "db818356-e2a3-45b9-a5ed-dc6acb0fdd3d",
   "metadata": {},
   "outputs": [
    {
     "data": {
      "text/plain": [
       "array([[0, 1, 0, 1, 0]], dtype=int64)"
      ]
     },
     "execution_count": 27,
     "metadata": {},
     "output_type": "execute_result"
    }
   ],
   "source": [
    "#new\n",
    "cv.transform(['Chetan watch movies']).toarray()"
   ]
  },
  {
   "cell_type": "code",
   "execution_count": 28,
   "id": "d82a0afc-349a-4845-9d2b-da677e09955c",
   "metadata": {},
   "outputs": [],
   "source": [
    "X = bow.toarray()\n",
    "y = df['output']            #Now we can pass data to the model"
   ]
  },
  {
   "cell_type": "markdown",
   "id": "4a504ca1-8255-48f9-9435-f53fae8bf385",
   "metadata": {},
   "source": [
    "## N gram:"
   ]
  },
  {
   "cell_type": "code",
   "execution_count": 30,
   "id": "5f4b4a53-2871-41b7-8fea-7cdf2f221946",
   "metadata": {},
   "outputs": [],
   "source": [
    "from sklearn.feature_extraction.text import CountVectorizer\n",
    "cv = CountVectorizer(ngram_range=(2,2))\n",
    "bow = cv.fit_transform(df['text'])"
   ]
  },
  {
   "cell_type": "code",
   "execution_count": 31,
   "id": "ced84c7b-13b5-4a24-b428-998c87d00b09",
   "metadata": {},
   "outputs": [
    {
     "name": "stdout",
     "output_type": "stream",
     "text": [
      "{'people watch': 1, 'watch movies': 3, 'movies watch': 0, 'people write': 2, 'write comments': 4}\n"
     ]
    }
   ],
   "source": [
    "print(cv.vocabulary_)"
   ]
  },
  {
   "cell_type": "code",
   "execution_count": 32,
   "id": "c3343525-3fc5-4c3e-b0bb-c4d236a22c90",
   "metadata": {},
   "outputs": [
    {
     "data": {
      "text/plain": [
       "array([[0, 1, 0, 1, 0],\n",
       "       [1, 0, 0, 1, 0],\n",
       "       [0, 0, 1, 0, 1]], dtype=int64)"
      ]
     },
     "execution_count": 32,
     "metadata": {},
     "output_type": "execute_result"
    }
   ],
   "source": [
    "bow.toarray()"
   ]
  },
  {
   "cell_type": "markdown",
   "id": "907e9d22-c654-43b8-97a4-f42d8288f97a",
   "metadata": {},
   "source": [
    "## TF-IDF(Term Frequency - Inverse Document Frequency):\n",
    "An improved BOW variant.Instead of raw counts, it gives weight to words: High if a word is frequent in a document but rare across the corpus. Low if the word is very common everywhere (like “the”, “is”)."
   ]
  },
  {
   "cell_type": "code",
   "execution_count": 37,
   "id": "953ac698-02f8-4966-95dd-d75355acde3d",
   "metadata": {},
   "outputs": [
    {
     "data": {
      "text/plain": [
       "array([[0.        , 0.57735027, 0.57735027, 0.57735027, 0.        ],\n",
       "       [0.        , 0.89442719, 0.        , 0.4472136 , 0.        ],\n",
       "       [0.62276601, 0.        , 0.4736296 , 0.        , 0.62276601]])"
      ]
     },
     "execution_count": 37,
     "metadata": {},
     "output_type": "execute_result"
    }
   ],
   "source": [
    "from sklearn.feature_extraction.text import TfidfVectorizer\n",
    "tfid = TfidfVectorizer()\n",
    "arr = tfid.fit_transform(df['text']).toarray()\n",
    "arr"
   ]
  },
  {
   "cell_type": "code",
   "execution_count": 40,
   "id": "ed9bdd4d-3599-4be3-853d-4530ce126f80",
   "metadata": {},
   "outputs": [
    {
     "name": "stdout",
     "output_type": "stream",
     "text": [
      "[1.69314718 1.28768207 1.28768207 1.28768207 1.69314718]\n"
     ]
    }
   ],
   "source": [
    "print(tfid.idf_)"
   ]
  },
  {
   "cell_type": "markdown",
   "id": "9fc906bb-2bcc-43eb-b111-e2c12870096a",
   "metadata": {},
   "source": [
    "### Word2Vec:\n",
    "Word2Vec is a technique that converts words into numerical vectors (embeddings) so that similar words are closer in meaning in vector space."
   ]
  },
  {
   "cell_type": "code",
   "execution_count": 1,
   "id": "ff004bb9-b7a9-4a47-9095-2e477ddb9d35",
   "metadata": {},
   "outputs": [
    {
     "name": "stdout",
     "output_type": "stream",
     "text": [
      "Collecting gensim\n",
      "  Downloading gensim-4.3.3-cp312-cp312-win_amd64.whl.metadata (8.2 kB)\n",
      "Requirement already satisfied: numpy<2.0,>=1.18.5 in c:\\users\\cheta\\appdata\\local\\programs\\python\\python312\\lib\\site-packages (from gensim) (1.26.4)\n",
      "Collecting scipy<1.14.0,>=1.7.0 (from gensim)\n",
      "  Downloading scipy-1.13.1-cp312-cp312-win_amd64.whl.metadata (60 kB)\n",
      "Requirement already satisfied: smart-open>=1.8.1 in c:\\users\\cheta\\appdata\\local\\programs\\python\\python312\\lib\\site-packages (from gensim) (7.0.5)\n",
      "Requirement already satisfied: wrapt in c:\\users\\cheta\\appdata\\local\\programs\\python\\python312\\lib\\site-packages (from smart-open>=1.8.1->gensim) (1.16.0)\n",
      "Downloading gensim-4.3.3-cp312-cp312-win_amd64.whl (24.0 MB)\n",
      "   ---------------------------------------- 0.0/24.0 MB ? eta -:--:--\n",
      "   ---------------------------------------- 0.3/24.0 MB ? eta -:--:--\n",
      "    --------------------------------------- 0.5/24.0 MB 2.1 MB/s eta 0:00:12\n",
      "   - -------------------------------------- 0.8/24.0 MB 1.7 MB/s eta 0:00:14\n",
      "   - -------------------------------------- 0.8/24.0 MB 1.7 MB/s eta 0:00:14\n",
      "   -- ------------------------------------- 1.3/24.0 MB 1.3 MB/s eta 0:00:18\n",
      "   -- ------------------------------------- 1.6/24.0 MB 1.4 MB/s eta 0:00:17\n",
      "   --- ------------------------------------ 2.4/24.0 MB 1.7 MB/s eta 0:00:13\n",
      "   ---- ----------------------------------- 2.9/24.0 MB 1.9 MB/s eta 0:00:12\n",
      "   ------ --------------------------------- 3.7/24.0 MB 2.0 MB/s eta 0:00:10\n",
      "   ------ --------------------------------- 3.9/24.0 MB 2.1 MB/s eta 0:00:10\n",
      "   ------ --------------------------------- 4.2/24.0 MB 2.0 MB/s eta 0:00:11\n",
      "   ------- -------------------------------- 4.7/24.0 MB 2.0 MB/s eta 0:00:10\n",
      "   -------- ------------------------------- 5.0/24.0 MB 1.9 MB/s eta 0:00:11\n",
      "   -------- ------------------------------- 5.0/24.0 MB 1.9 MB/s eta 0:00:11\n",
      "   --------- ------------------------------ 5.5/24.0 MB 1.8 MB/s eta 0:00:11\n",
      "   --------- ------------------------------ 5.8/24.0 MB 1.7 MB/s eta 0:00:11\n",
      "   ---------- ----------------------------- 6.3/24.0 MB 1.8 MB/s eta 0:00:10\n",
      "   ----------- ---------------------------- 6.8/24.0 MB 1.8 MB/s eta 0:00:10\n",
      "   ------------ --------------------------- 7.3/24.0 MB 1.9 MB/s eta 0:00:09\n",
      "   ------------ --------------------------- 7.6/24.0 MB 1.9 MB/s eta 0:00:09\n",
      "   ------------- -------------------------- 7.9/24.0 MB 1.9 MB/s eta 0:00:09\n",
      "   ------------- -------------------------- 8.1/24.0 MB 1.8 MB/s eta 0:00:09\n",
      "   ------------- -------------------------- 8.4/24.0 MB 1.8 MB/s eta 0:00:09\n",
      "   ------------- -------------------------- 8.4/24.0 MB 1.8 MB/s eta 0:00:09\n",
      "   ------------- -------------------------- 8.4/24.0 MB 1.8 MB/s eta 0:00:09\n",
      "   ------------- -------------------------- 8.4/24.0 MB 1.8 MB/s eta 0:00:09\n",
      "   ------------- -------------------------- 8.4/24.0 MB 1.8 MB/s eta 0:00:09\n",
      "   ------------- -------------------------- 8.4/24.0 MB 1.8 MB/s eta 0:00:09\n",
      "   ------------- -------------------------- 8.4/24.0 MB 1.8 MB/s eta 0:00:09\n",
      "   ------------- -------------------------- 8.4/24.0 MB 1.8 MB/s eta 0:00:09\n",
      "   ------------- -------------------------- 8.4/24.0 MB 1.8 MB/s eta 0:00:09\n",
      "   ------------- -------------------------- 8.4/24.0 MB 1.8 MB/s eta 0:00:09\n",
      "   ------------- -------------------------- 8.4/24.0 MB 1.8 MB/s eta 0:00:09\n",
      "   ------------- -------------------------- 8.4/24.0 MB 1.8 MB/s eta 0:00:09\n",
      "   ------------- -------------------------- 8.4/24.0 MB 1.8 MB/s eta 0:00:09\n",
      "   ------------- -------------------------- 8.4/24.0 MB 1.8 MB/s eta 0:00:09\n",
      "   ------------- -------------------------- 8.4/24.0 MB 1.8 MB/s eta 0:00:09\n",
      "   ------------- -------------------------- 8.4/24.0 MB 1.8 MB/s eta 0:00:09\n",
      "   ------------- -------------------------- 8.4/24.0 MB 1.8 MB/s eta 0:00:09\n",
      "   ------------- -------------------------- 8.4/24.0 MB 1.8 MB/s eta 0:00:09\n",
      "   ------------- -------------------------- 8.4/24.0 MB 1.8 MB/s eta 0:00:09\n",
      "   ------------- -------------------------- 8.4/24.0 MB 1.8 MB/s eta 0:00:09\n",
      "   ------------- -------------------------- 8.4/24.0 MB 1.8 MB/s eta 0:00:09\n",
      "   ------------- -------------------------- 8.4/24.0 MB 1.8 MB/s eta 0:00:09\n",
      "   ------------- -------------------------- 8.4/24.0 MB 1.8 MB/s eta 0:00:09\n",
      "   ------------- -------------------------- 8.4/24.0 MB 1.8 MB/s eta 0:00:09\n",
      "   ------------- -------------------------- 8.4/24.0 MB 1.8 MB/s eta 0:00:09\n",
      "   ------------- -------------------------- 8.4/24.0 MB 1.8 MB/s eta 0:00:09\n",
      "   ------------- -------------------------- 8.4/24.0 MB 1.8 MB/s eta 0:00:09\n",
      "   ------------- -------------------------- 8.4/24.0 MB 1.8 MB/s eta 0:00:09\n",
      "   ------------- -------------------------- 8.4/24.0 MB 1.8 MB/s eta 0:00:09\n",
      "   ------------- -------------------------- 8.4/24.0 MB 1.8 MB/s eta 0:00:09\n",
      "   ------------- -------------------------- 8.4/24.0 MB 1.8 MB/s eta 0:00:09\n",
      "   ------------- -------------------------- 8.4/24.0 MB 1.8 MB/s eta 0:00:09\n",
      "   ------------- -------------------------- 8.4/24.0 MB 1.8 MB/s eta 0:00:09\n",
      "   ------------- -------------------------- 8.4/24.0 MB 1.8 MB/s eta 0:00:09\n",
      "   ------------- -------------------------- 8.4/24.0 MB 1.8 MB/s eta 0:00:09\n",
      "   ------------- -------------------------- 8.4/24.0 MB 1.8 MB/s eta 0:00:09\n",
      "   ------------- -------------------------- 8.4/24.0 MB 1.8 MB/s eta 0:00:09\n",
      "   ------------- -------------------------- 8.4/24.0 MB 1.8 MB/s eta 0:00:09\n",
      "   ------------- -------------------------- 8.4/24.0 MB 1.8 MB/s eta 0:00:09\n",
      "   ------------- -------------------------- 8.4/24.0 MB 1.8 MB/s eta 0:00:09\n",
      "   ------------- -------------------------- 8.4/24.0 MB 1.8 MB/s eta 0:00:09\n",
      "   ------------- -------------------------- 8.4/24.0 MB 1.8 MB/s eta 0:00:09\n",
      "   ------------- -------------------------- 8.4/24.0 MB 1.8 MB/s eta 0:00:09\n",
      "   ------------- -------------------------- 8.4/24.0 MB 1.8 MB/s eta 0:00:09\n",
      "   ------------- -------------------------- 8.4/24.0 MB 1.8 MB/s eta 0:00:09\n",
      "   ------------- -------------------------- 8.4/24.0 MB 1.8 MB/s eta 0:00:09\n",
      "   ------------- -------------------------- 8.4/24.0 MB 1.8 MB/s eta 0:00:09\n",
      "   ------------- -------------------------- 8.4/24.0 MB 1.8 MB/s eta 0:00:09\n",
      "   ------------- -------------------------- 8.4/24.0 MB 1.8 MB/s eta 0:00:09\n",
      "   ------------- -------------------------- 8.4/24.0 MB 1.8 MB/s eta 0:00:09\n",
      "   ------------- -------------------------- 8.4/24.0 MB 1.8 MB/s eta 0:00:09\n",
      "   ------------- -------------------------- 8.4/24.0 MB 1.8 MB/s eta 0:00:09\n",
      "   ------------- -------------------------- 8.4/24.0 MB 1.8 MB/s eta 0:00:09\n",
      "   ------------- -------------------------- 8.4/24.0 MB 1.8 MB/s eta 0:00:09\n",
      "   ------------- -------------------------- 8.4/24.0 MB 1.8 MB/s eta 0:00:09\n",
      "   ------------- -------------------------- 8.4/24.0 MB 1.8 MB/s eta 0:00:09\n",
      "   ------------- -------------------------- 8.4/24.0 MB 1.8 MB/s eta 0:00:09\n",
      "   ------------- -------------------------- 8.4/24.0 MB 1.8 MB/s eta 0:00:09\n",
      "   -------------- ------------------------- 8.7/24.0 MB 498.0 kB/s eta 0:00:31\n",
      "   -------------- ------------------------- 8.9/24.0 MB 504.7 kB/s eta 0:00:30\n",
      "   --------------- ------------------------ 9.2/24.0 MB 517.2 kB/s eta 0:00:29\n",
      "   ---------------- ----------------------- 9.7/24.0 MB 537.9 kB/s eta 0:00:27\n",
      "   ----------------- ---------------------- 10.2/24.0 MB 562.7 kB/s eta 0:00:25\n",
      "   ------------------ --------------------- 11.0/24.0 MB 597.6 kB/s eta 0:00:22\n",
      "   ------------------- -------------------- 11.5/24.0 MB 620.9 kB/s eta 0:00:21\n",
      "   -------------------- ------------------- 12.1/24.0 MB 641.5 kB/s eta 0:00:19\n",
      "   -------------------- ------------------- 12.1/24.0 MB 641.5 kB/s eta 0:00:19\n",
      "   --------------------- ------------------ 12.8/24.0 MB 668.9 kB/s eta 0:00:17\n",
      "   ---------------------- ----------------- 13.4/24.0 MB 689.3 kB/s eta 0:00:16\n",
      "   ----------------------- ---------------- 13.9/24.0 MB 710.5 kB/s eta 0:00:15\n",
      "   ------------------------ --------------- 14.4/24.0 MB 731.8 kB/s eta 0:00:14\n",
      "   ------------------------ --------------- 14.9/24.0 MB 748.0 kB/s eta 0:00:13\n",
      "   ------------------------- -------------- 15.5/24.0 MB 766.8 kB/s eta 0:00:12\n",
      "   --------------------------- ------------ 16.3/24.0 MB 796.4 kB/s eta 0:00:10\n",
      "   --------------------------- ------------ 16.5/24.0 MB 805.8 kB/s eta 0:00:10\n",
      "   ---------------------------- ----------- 17.3/24.0 MB 835.7 kB/s eta 0:00:09\n",
      "   ----------------------------- ---------- 17.8/24.0 MB 851.6 kB/s eta 0:00:08\n",
      "   ------------------------------- -------- 18.6/24.0 MB 878.4 kB/s eta 0:00:07\n",
      "   ------------------------------- -------- 19.1/24.0 MB 895.5 kB/s eta 0:00:06\n",
      "   --------------------------------- ------ 19.9/24.0 MB 922.5 kB/s eta 0:00:05\n",
      "   --------------------------------- ------ 20.2/24.0 MB 927.3 kB/s eta 0:00:05\n",
      "   ---------------------------------- ----- 21.0/24.0 MB 952.2 kB/s eta 0:00:04\n",
      "   ----------------------------------- ---- 21.5/24.0 MB 967.9 kB/s eta 0:00:03\n",
      "   ------------------------------------ --- 22.0/24.0 MB 984.8 kB/s eta 0:00:03\n",
      "   ------------------------------------- -- 22.5/24.0 MB 995.9 kB/s eta 0:00:02\n",
      "   ------------------------------------- -- 22.8/24.0 MB 1.0 MB/s eta 0:00:02\n",
      "   ---------------------------------------  23.6/24.0 MB 1.0 MB/s eta 0:00:01\n",
      "   ---------------------------------------- 24.0/24.0 MB 1.0 MB/s eta 0:00:00\n",
      "Downloading scipy-1.13.1-cp312-cp312-win_amd64.whl (45.9 MB)\n",
      "   ---------------------------------------- 0.0/45.9 MB ? eta -:--:--\n",
      "   ---------------------------------------- 0.5/45.9 MB 3.4 MB/s eta 0:00:14\n",
      "    --------------------------------------- 0.8/45.9 MB 2.1 MB/s eta 0:00:22\n",
      "   - -------------------------------------- 1.3/45.9 MB 2.2 MB/s eta 0:00:21\n",
      "   - -------------------------------------- 1.6/45.9 MB 2.2 MB/s eta 0:00:21\n",
      "   - -------------------------------------- 2.1/45.9 MB 2.1 MB/s eta 0:00:21\n",
      "   -- ------------------------------------- 2.9/45.9 MB 2.3 MB/s eta 0:00:19\n",
      "   -- ------------------------------------- 2.9/45.9 MB 2.3 MB/s eta 0:00:19\n",
      "   -- ------------------------------------- 2.9/45.9 MB 2.3 MB/s eta 0:00:19\n",
      "   --- ------------------------------------ 3.9/45.9 MB 2.0 MB/s eta 0:00:21\n",
      "   --- ------------------------------------ 3.9/45.9 MB 2.0 MB/s eta 0:00:21\n",
      "   --- ------------------------------------ 3.9/45.9 MB 2.0 MB/s eta 0:00:21\n",
      "   --- ------------------------------------ 3.9/45.9 MB 2.0 MB/s eta 0:00:21\n",
      "   --- ------------------------------------ 3.9/45.9 MB 2.0 MB/s eta 0:00:21\n",
      "   --- ------------------------------------ 4.5/45.9 MB 1.5 MB/s eta 0:00:28\n",
      "   --- ------------------------------------ 4.5/45.9 MB 1.5 MB/s eta 0:00:28\n",
      "   ---- ----------------------------------- 5.0/45.9 MB 1.4 MB/s eta 0:00:29\n",
      "   ---- ----------------------------------- 5.2/45.9 MB 1.4 MB/s eta 0:00:29\n",
      "   ---- ----------------------------------- 5.2/45.9 MB 1.4 MB/s eta 0:00:29\n",
      "   ---- ----------------------------------- 5.5/45.9 MB 1.4 MB/s eta 0:00:29\n",
      "   ----- ---------------------------------- 5.8/45.9 MB 1.4 MB/s eta 0:00:29\n",
      "   ----- ---------------------------------- 6.0/45.9 MB 1.4 MB/s eta 0:00:29\n",
      "   ----- ---------------------------------- 6.6/45.9 MB 1.4 MB/s eta 0:00:29\n",
      "   ------ --------------------------------- 7.1/45.9 MB 1.4 MB/s eta 0:00:27\n",
      "   ------ --------------------------------- 7.3/45.9 MB 1.5 MB/s eta 0:00:27\n",
      "   ------ --------------------------------- 7.6/45.9 MB 1.5 MB/s eta 0:00:27\n",
      "   ------- -------------------------------- 8.1/45.9 MB 1.5 MB/s eta 0:00:26\n",
      "   ------- -------------------------------- 8.4/45.9 MB 1.5 MB/s eta 0:00:26\n",
      "   ------- -------------------------------- 8.7/45.9 MB 1.4 MB/s eta 0:00:26\n",
      "   ------- -------------------------------- 8.7/45.9 MB 1.4 MB/s eta 0:00:26\n",
      "   ------- -------------------------------- 9.2/45.9 MB 1.4 MB/s eta 0:00:26\n",
      "   -------- ------------------------------- 9.7/45.9 MB 1.5 MB/s eta 0:00:25\n",
      "   -------- ------------------------------- 10.2/45.9 MB 1.5 MB/s eta 0:00:24\n",
      "   --------- ------------------------------ 11.0/45.9 MB 1.6 MB/s eta 0:00:23\n",
      "   ---------- ----------------------------- 11.5/45.9 MB 1.6 MB/s eta 0:00:22\n",
      "   ---------- ----------------------------- 12.3/45.9 MB 1.7 MB/s eta 0:00:21\n",
      "   ----------- ---------------------------- 12.8/45.9 MB 1.7 MB/s eta 0:00:20\n",
      "   ----------- ---------------------------- 13.4/45.9 MB 1.7 MB/s eta 0:00:20\n",
      "   ------------ --------------------------- 13.9/45.9 MB 1.7 MB/s eta 0:00:19\n",
      "   ------------ --------------------------- 14.4/45.9 MB 1.7 MB/s eta 0:00:19\n",
      "   ------------- -------------------------- 14.9/45.9 MB 1.8 MB/s eta 0:00:18\n",
      "   ------------- -------------------------- 15.2/45.9 MB 1.8 MB/s eta 0:00:18\n",
      "   ------------- -------------------------- 15.5/45.9 MB 1.7 MB/s eta 0:00:18\n",
      "   -------------- ------------------------- 16.3/45.9 MB 1.8 MB/s eta 0:00:17\n",
      "   -------------- ------------------------- 16.5/45.9 MB 1.8 MB/s eta 0:00:17\n",
      "   -------------- ------------------------- 16.8/45.9 MB 1.8 MB/s eta 0:00:17\n",
      "   --------------- ------------------------ 17.6/45.9 MB 1.8 MB/s eta 0:00:16\n",
      "   --------------- ------------------------ 18.1/45.9 MB 1.8 MB/s eta 0:00:16\n",
      "   ---------------- ----------------------- 18.9/45.9 MB 1.9 MB/s eta 0:00:15\n",
      "   ---------------- ----------------------- 19.4/45.9 MB 1.9 MB/s eta 0:00:15\n",
      "   ----------------- ---------------------- 20.2/45.9 MB 1.9 MB/s eta 0:00:14\n",
      "   ----------------- ---------------------- 20.4/45.9 MB 1.9 MB/s eta 0:00:14\n",
      "   ------------------ --------------------- 21.0/45.9 MB 1.9 MB/s eta 0:00:14\n",
      "   ------------------ --------------------- 21.5/45.9 MB 1.9 MB/s eta 0:00:13\n",
      "   ------------------- -------------------- 22.3/45.9 MB 1.9 MB/s eta 0:00:13\n",
      "   ------------------- -------------------- 22.8/45.9 MB 2.0 MB/s eta 0:00:12\n",
      "   -------------------- ------------------- 23.6/45.9 MB 2.0 MB/s eta 0:00:12\n",
      "   -------------------- ------------------- 23.9/45.9 MB 2.0 MB/s eta 0:00:12\n",
      "   --------------------- ------------------ 24.6/45.9 MB 2.0 MB/s eta 0:00:11\n",
      "   --------------------- ------------------ 25.2/45.9 MB 2.0 MB/s eta 0:00:11\n",
      "   ---------------------- ----------------- 25.7/45.9 MB 2.0 MB/s eta 0:00:10\n",
      "   ---------------------- ----------------- 26.0/45.9 MB 2.0 MB/s eta 0:00:10\n",
      "   ----------------------- ---------------- 26.5/45.9 MB 2.0 MB/s eta 0:00:10\n",
      "   ----------------------- ---------------- 26.7/45.9 MB 2.0 MB/s eta 0:00:10\n",
      "   ----------------------- ---------------- 27.3/45.9 MB 2.0 MB/s eta 0:00:10\n",
      "   ----------------------- ---------------- 27.5/45.9 MB 2.0 MB/s eta 0:00:10\n",
      "   ------------------------ --------------- 28.0/45.9 MB 2.0 MB/s eta 0:00:09\n",
      "   ------------------------- -------------- 28.8/45.9 MB 2.0 MB/s eta 0:00:09\n",
      "   ------------------------- -------------- 29.4/45.9 MB 2.0 MB/s eta 0:00:09\n",
      "   -------------------------- ------------- 29.9/45.9 MB 2.1 MB/s eta 0:00:08\n",
      "   -------------------------- ------------- 30.4/45.9 MB 2.1 MB/s eta 0:00:08\n",
      "   --------------------------- ------------ 31.2/45.9 MB 2.1 MB/s eta 0:00:08\n",
      "   --------------------------- ------------ 32.0/45.9 MB 2.1 MB/s eta 0:00:07\n",
      "   ---------------------------- ----------- 32.2/45.9 MB 2.1 MB/s eta 0:00:07\n",
      "   ---------------------------- ----------- 32.8/45.9 MB 2.1 MB/s eta 0:00:07\n",
      "   ----------------------------- ---------- 33.3/45.9 MB 2.1 MB/s eta 0:00:07\n",
      "   ----------------------------- ---------- 33.8/45.9 MB 2.1 MB/s eta 0:00:06\n",
      "   ----------------------------- ---------- 34.3/45.9 MB 2.1 MB/s eta 0:00:06\n",
      "   ------------------------------ --------- 34.9/45.9 MB 2.1 MB/s eta 0:00:06\n",
      "   ------------------------------ --------- 35.1/45.9 MB 2.1 MB/s eta 0:00:06\n",
      "   ------------------------------- -------- 35.9/45.9 MB 2.1 MB/s eta 0:00:05\n",
      "   ------------------------------- -------- 36.2/45.9 MB 2.1 MB/s eta 0:00:05\n",
      "   ------------------------------- -------- 36.7/45.9 MB 2.1 MB/s eta 0:00:05\n",
      "   -------------------------------- ------- 37.2/45.9 MB 2.1 MB/s eta 0:00:05\n",
      "   --------------------------------- ------ 38.0/45.9 MB 2.1 MB/s eta 0:00:04\n",
      "   --------------------------------- ------ 38.8/45.9 MB 2.2 MB/s eta 0:00:04\n",
      "   ---------------------------------- ----- 39.3/45.9 MB 2.2 MB/s eta 0:00:04\n",
      "   ---------------------------------- ----- 39.8/45.9 MB 2.2 MB/s eta 0:00:03\n",
      "   ---------------------------------- ----- 40.1/45.9 MB 2.2 MB/s eta 0:00:03\n",
      "   ----------------------------------- ---- 41.2/45.9 MB 2.2 MB/s eta 0:00:03\n",
      "   ------------------------------------ --- 41.7/45.9 MB 2.2 MB/s eta 0:00:02\n",
      "   ------------------------------------ --- 42.2/45.9 MB 2.2 MB/s eta 0:00:02\n",
      "   ------------------------------------- -- 42.7/45.9 MB 2.2 MB/s eta 0:00:02\n",
      "   ------------------------------------- -- 43.3/45.9 MB 2.2 MB/s eta 0:00:02\n",
      "   -------------------------------------- - 43.8/45.9 MB 2.2 MB/s eta 0:00:01\n",
      "   -------------------------------------- - 44.3/45.9 MB 2.2 MB/s eta 0:00:01\n",
      "   ---------------------------------------  45.1/45.9 MB 2.2 MB/s eta 0:00:01\n",
      "   ---------------------------------------  45.6/45.9 MB 2.2 MB/s eta 0:00:01\n",
      "   ---------------------------------------- 45.9/45.9 MB 2.2 MB/s eta 0:00:00\n",
      "Installing collected packages: scipy, gensim\n",
      "  Attempting uninstall: scipy\n",
      "    Found existing installation: scipy 1.14.0\n",
      "    Uninstalling scipy-1.14.0:\n",
      "      Successfully uninstalled scipy-1.14.0\n",
      "Successfully installed gensim-4.3.3 scipy-1.13.1\n",
      "Note: you may need to restart the kernel to use updated packages.\n"
     ]
    },
    {
     "name": "stderr",
     "output_type": "stream",
     "text": [
      "\n",
      "[notice] A new release of pip is available: 25.0 -> 25.2\n",
      "[notice] To update, run: python.exe -m pip install --upgrade pip\n"
     ]
    }
   ],
   "source": [
    "pip install gensim"
   ]
  },
  {
   "cell_type": "markdown",
   "id": "aecd9def-4650-4e98-9daa-65f59d2dd170",
   "metadata": {},
   "source": [
    "`gensim “Generate Similar”` It’s an open source Python library designed for topic modeling, NLP, and document similarity analysis. It is widely used for unsupervised learning of text representations."
   ]
  },
  {
   "cell_type": "code",
   "execution_count": 3,
   "id": "7093b52d-43d6-4c61-847b-e42dc8c31feb",
   "metadata": {},
   "outputs": [
    {
     "name": "stdout",
     "output_type": "stream",
     "text": [
      "Requirement already satisfied: pip in c:\\users\\cheta\\appdata\\local\\programs\\python\\python312\\lib\\site-packages (25.0)\n",
      "Collecting pip\n",
      "  Downloading pip-25.2-py3-none-any.whl.metadata (4.7 kB)\n",
      "Downloading pip-25.2-py3-none-any.whl (1.8 MB)\n",
      "   ---------------------------------------- 0.0/1.8 MB ? eta -:--:--\n",
      "   ---------------------------------------- 0.0/1.8 MB ? eta -:--:--\n",
      "   ----- ---------------------------------- 0.3/1.8 MB ? eta -:--:--\n",
      "   ----------------- ---------------------- 0.8/1.8 MB 1.9 MB/s eta 0:00:01\n",
      "   ----------------------------- ---------- 1.3/1.8 MB 2.0 MB/s eta 0:00:01\n",
      "   ----------------------------------- ---- 1.6/1.8 MB 2.2 MB/s eta 0:00:01\n",
      "   ---------------------------------------- 1.8/1.8 MB 2.0 MB/s eta 0:00:00\n",
      "Installing collected packages: pip\n",
      "  Attempting uninstall: pip\n",
      "    Found existing installation: pip 25.0\n",
      "    Uninstalling pip-25.0:\n",
      "      Successfully uninstalled pip-25.0\n",
      "Successfully installed pip-25.2\n",
      "Note: you may need to restart the kernel to use updated packages.\n"
     ]
    }
   ],
   "source": [
    "pip install --upgrade pip"
   ]
  },
  {
   "cell_type": "code",
   "execution_count": 7,
   "id": "fe2c0d20-4d30-42ba-9669-af4c73aadc4b",
   "metadata": {},
   "outputs": [
    {
     "name": "stderr",
     "output_type": "stream",
     "text": [
      "[nltk_data] Downloading package punkt to\n",
      "[nltk_data]     C:\\Users\\cheta\\AppData\\Roaming\\nltk_data...\n",
      "[nltk_data]   Package punkt is already up-to-date!\n"
     ]
    },
    {
     "data": {
      "text/plain": [
       "True"
      ]
     },
     "execution_count": 7,
     "metadata": {},
     "output_type": "execute_result"
    }
   ],
   "source": [
    "import gensim\n",
    "import os\n",
    "from nltk import sent_tokenize\n",
    "import nltk\n",
    "nltk.download('punkt')"
   ]
  },
  {
   "cell_type": "code",
   "execution_count": 8,
   "id": "1b212308-4241-456e-9aac-c6238ab764a6",
   "metadata": {},
   "outputs": [
    {
     "name": "stdout",
     "output_type": "stream",
     "text": [
      "[['game', 'of', 'thrones', 'book', 'one', 'of', 'song', 'of', 'ice', 'and', 'fire', 'by', 'george', 'martin', 'prologue', 'we', 'should', 'start', 'back', 'gared', 'urged', 'as', 'the', 'woods', 'began', 'to', 'grow', 'dark', 'around', 'them'], ['the', 'wildlings', 'are', 'dead'], ['do', 'the', 'dead', 'frighten', 'you'], ['ser', 'waymar', 'royce', 'asked', 'with', 'just', 'the', 'hint', 'of', 'smile'], ['gared', 'did', 'not', 'rise', 'to', 'the', 'bait']]\n"
     ]
    }
   ],
   "source": [
    "from nltk.tokenize import sent_tokenize\n",
    "from gensim.utils import simple_preprocess\n",
    "\n",
    "story = []\n",
    "\n",
    "with open(r\"C:\\Users\\cheta\\Desktop\\Generative_AI\\Dataset\\Game_of_Thrones.txt\", \"r\", encoding=\"utf-8\") as f:\n",
    "    corpus = f.read()\n",
    "    raw_sent = sent_tokenize(corpus)\n",
    "    for sent in raw_sent:\n",
    "        story.append(simple_preprocess(sent))\n",
    "\n",
    "print(story[:5])  "
   ]
  },
  {
   "cell_type": "code",
   "execution_count": 9,
   "id": "3886f9a7-5852-4caa-bf84-0ca5584cb721",
   "metadata": {},
   "outputs": [
    {
     "data": {
      "text/plain": [
       "['game',\n",
       " 'of',\n",
       " 'thrones',\n",
       " 'book',\n",
       " 'one',\n",
       " 'of',\n",
       " 'song',\n",
       " 'of',\n",
       " 'ice',\n",
       " 'and',\n",
       " 'fire',\n",
       " 'by',\n",
       " 'george',\n",
       " 'martin',\n",
       " 'prologue',\n",
       " 'we',\n",
       " 'should',\n",
       " 'start',\n",
       " 'back',\n",
       " 'gared',\n",
       " 'urged',\n",
       " 'as',\n",
       " 'the',\n",
       " 'woods',\n",
       " 'began',\n",
       " 'to',\n",
       " 'grow',\n",
       " 'dark',\n",
       " 'around',\n",
       " 'them']"
      ]
     },
     "execution_count": 9,
     "metadata": {},
     "output_type": "execute_result"
    }
   ],
   "source": [
    "story[0]"
   ]
  },
  {
   "cell_type": "code",
   "execution_count": 10,
   "id": "457c61a9-25f5-4c4a-b7ed-b003cdb5ec17",
   "metadata": {},
   "outputs": [],
   "source": [
    "model = gensim.models.Word2Vec(window=10, min_count=2)"
   ]
  },
  {
   "cell_type": "code",
   "execution_count": 11,
   "id": "f3f7094c-fa79-4645-a967-0f16a329d42e",
   "metadata": {},
   "outputs": [],
   "source": [
    " model.build_vocab(story)"
   ]
  },
  {
   "cell_type": "code",
   "execution_count": 13,
   "id": "1565b88b-fe76-488c-820a-41c01cb7e1cf",
   "metadata": {},
   "outputs": [
    {
     "data": {
      "text/plain": [
       "(1058199, 1423500)"
      ]
     },
     "execution_count": 13,
     "metadata": {},
     "output_type": "execute_result"
    }
   ],
   "source": [
    "model.train(story, total_examples=model.corpus_count, epochs=model.epochs)"
   ]
  },
  {
   "cell_type": "code",
   "execution_count": 14,
   "id": "5b483835-310f-4900-8a07-94fa698f5717",
   "metadata": {},
   "outputs": [
    {
     "data": {
      "text/plain": [
       "[('sellsword', 0.9947555065155029),\n",
       " ('arakh', 0.9945714473724365),\n",
       " ('tomard', 0.9944528937339783),\n",
       " ('eunuch', 0.9943556785583496),\n",
       " ('dull', 0.9940035939216614),\n",
       " ('restless', 0.9937202334403992),\n",
       " ('inn', 0.9935469031333923),\n",
       " ('stolen', 0.9932444095611572),\n",
       " ('damp', 0.993061363697052),\n",
       " ('mycah', 0.9927838444709778)]"
      ]
     },
     "execution_count": 14,
     "metadata": {},
     "output_type": "execute_result"
    }
   ],
   "source": [
    "model.wv.most_similar('daenerys')"
   ]
  },
  {
   "cell_type": "code",
   "execution_count": 15,
   "id": "1fd8bded-43c1-4326-84c5-75c80aa30924",
   "metadata": {},
   "outputs": [
    {
     "data": {
      "text/plain": [
       "0.9692258"
      ]
     },
     "execution_count": 15,
     "metadata": {},
     "output_type": "execute_result"
    }
   ],
   "source": [
    "model.wv.similarity('arya','sansa')"
   ]
  },
  {
   "cell_type": "code",
   "execution_count": 19,
   "id": "86e9c3e1-f987-46d5-aa65-c846ade02a0f",
   "metadata": {},
   "outputs": [
    {
     "data": {
      "text/plain": [
       "(100,)"
      ]
     },
     "execution_count": 19,
     "metadata": {},
     "output_type": "execute_result"
    }
   ],
   "source": [
    "model.wv['deep'].shape"
   ]
  },
  {
   "cell_type": "code",
   "execution_count": 20,
   "id": "a19bb4e6-9e0a-41aa-8162-e274d0acbc2b",
   "metadata": {},
   "outputs": [
    {
     "data": {
      "text/plain": [
       "array([[-0.01794605,  0.04397758, -0.03696321, ..., -0.13696195,\n",
       "         0.0201353 ,  0.11625122],\n",
       "       [ 0.00074872,  0.1042759 ,  0.00652107, ..., -0.16866046,\n",
       "         0.03891385,  0.04943926],\n",
       "       [-0.16775754,  0.02611815,  0.03883417, ..., -0.04931275,\n",
       "         0.05818661, -0.1238498 ],\n",
       "       ...,\n",
       "       [-0.10089817, -0.08610658,  0.05358092, ..., -0.12319861,\n",
       "         0.05023183, -0.09563853],\n",
       "       [ 0.02127735,  0.07517019, -0.0100141 , ..., -0.15361966,\n",
       "        -0.0098684 ,  0.00422992],\n",
       "       [-0.00761612,  0.10934677, -0.01323371, ..., -0.15988217,\n",
       "         0.04802461, -0.04071629]], dtype=float32)"
      ]
     },
     "execution_count": 20,
     "metadata": {},
     "output_type": "execute_result"
    }
   ],
   "source": [
    "vec = model.wv.get_normed_vectors()\n",
    "vec"
   ]
  },
  {
   "cell_type": "code",
   "execution_count": 22,
   "id": "a59f7411-8676-4d85-967c-b7c7c293acff",
   "metadata": {},
   "outputs": [
    {
     "data": {
      "text/plain": [
       "array([[-0.38900602,  0.14975232,  0.34126675],\n",
       "       [-0.47252584,  0.06224984,  0.21955961],\n",
       "       [ 0.39796478,  0.11849034, -0.00936055],\n",
       "       ...,\n",
       "       [ 0.37722424,  0.15573978, -0.23981065],\n",
       "       [-0.41105452, -0.00600046,  0.14279673],\n",
       "       [-0.17184907, -0.02027613, -0.06335989]], dtype=float32)"
      ]
     },
     "execution_count": 22,
     "metadata": {},
     "output_type": "execute_result"
    }
   ],
   "source": [
    "from sklearn.decomposition import PCA\n",
    "pca = PCA(n_components=3)\n",
    "X=pca.fit_transform(model.wv.get_normed_vectors())\n",
    "X"
   ]
  },
  {
   "cell_type": "code",
   "execution_count": 23,
   "id": "e2d40fea-692a-4202-b1d5-273eb50313b8",
   "metadata": {},
   "outputs": [
    {
     "data": {
      "text/plain": [
       "(7432, 3)"
      ]
     },
     "execution_count": 23,
     "metadata": {},
     "output_type": "execute_result"
    }
   ],
   "source": [
    "X.shape"
   ]
  },
  {
   "cell_type": "code",
   "execution_count": 43,
   "id": "8990b2d9-0f67-41d4-bec2-44d91ad7f7a9",
   "metadata": {},
   "outputs": [],
   "source": [
    "%matplotlib inline"
   ]
  },
  {
   "cell_type": "code",
   "execution_count": 50,
   "id": "07a01e40-194f-4266-aca3-9c2f36a75367",
   "metadata": {
    "scrolled": true
   },
   "outputs": [
    {
     "data": {
      "image/png": "[encoded data removed]",
      "text/plain": [
       "<Figure size 1000x700 with 1 Axes>"
      ]
     },
     "metadata": {},
     "output_type": "display_data"
    }
   ],
   "source": [
    "import matplotlib.pyplot as plt\n",
    "from mpl_toolkits.mplot3d import Axes3D\n",
    "from sklearn.cluster import KMeans\n",
    "\n",
    "# Let's cluster into, say, 5 groups\n",
    "kmeans = KMeans(n_clusters=5, random_state=42)\n",
    "labels = kmeans.fit_predict(X)\n",
    "\n",
    "fig = plt.figure(figsize=(10, 7))\n",
    "ax = fig.add_subplot(111, projection='3d')\n",
    "\n",
    "# Use labels to color points\n",
    "scatter = ax.scatter(X[:, 0], X[:, 1], X[:, 2], \n",
    "                     c=labels, cmap='rainbow', s=30, alpha=0.8)\n",
    "\n",
    "ax.set_xlabel(\"PC1\")\n",
    "ax.set_ylabel(\"PC2\")\n",
    "ax.set_zlabel(\"PC3\")\n",
    "plt.title(\"3D PCA Projection of Word Vectors with Clusters\")\n",
    "\n",
    "plt.show()\n"
   ]
  },
  {
   "cell_type": "code",
   "execution_count": null,
   "id": "3e6a6e2d-ac44-4b63-8af4-4d24c4cf6b93",
   "metadata": {},
   "outputs": [],
   "source": []
  }
 ],
 "metadata": {
  "kernelspec": {
   "display_name": "Python 3 (ipykernel)",
   "language": "python",
   "name": "python3"
  },
  "language_info": {
   "codemirror_mode": {
    "name": "ipython",
    "version": 3
   },
   "file_extension": ".py",
   "mimetype": "text/x-python",
   "name": "python",
   "nbconvert_exporter": "python",
   "pygments_lexer": "ipython3",
   "version": "3.12.4"
  }
 },
 "nbformat": 4,
 "nbformat_minor": 5
}
